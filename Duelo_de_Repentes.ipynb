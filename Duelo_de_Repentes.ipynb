{
  "nbformat": 4,
  "nbformat_minor": 0,
  "metadata": {
    "colab": {
      "provenance": [],
      "authorship_tag": "ABX9TyOS6HkLgvU8RhsFzcGqSD/7",
      "include_colab_link": true
    },
    "kernelspec": {
      "name": "python3",
      "display_name": "Python 3"
    },
    "language_info": {
      "name": "python"
    }
  },
  "cells": [
    {
      "cell_type": "markdown",
      "metadata": {
        "id": "view-in-github",
        "colab_type": "text"
      },
      "source": [
        "<a href=\"https://colab.research.google.com/github/sndemedeiros/Desafio_Imersao_Alura04/blob/main/Duelo_de_Repentes.ipynb\" target=\"_parent\"><img src=\"https://colab.research.google.com/assets/colab-badge.svg\" alt=\"Open In Colab\"/></a>"
      ]
    },
    {
      "cell_type": "code",
      "execution_count": 19,
      "metadata": {
        "id": "kL0hOPJ_uutJ"
      },
      "outputs": [],
      "source": [
        "!pip install -q -U google-generativeai"
      ]
    },
    {
      "cell_type": "code",
      "source": [
        "# Importando as bibliotecas necessárias\n",
        "import google.generativeai as genai\n",
        "from IPython.display import display, Markdown\n",
        "import textwrap"
      ],
      "metadata": {
        "id": "9ExfTU1Zu747"
      },
      "execution_count": 20,
      "outputs": []
    },
    {
      "cell_type": "code",
      "source": [
        "# Configuração inicial\n",
        "from google.colab import userdata\n",
        "api_key = userdata.get('SECRET_KEY')\n",
        "genai.configure(api_key=api_key)"
      ],
      "metadata": {
        "id": "Vs02ObSvu9pG"
      },
      "execution_count": 27,
      "outputs": []
    },
    {
      "cell_type": "code",
      "source": [
        "# Configuração do modelo e geração\n",
        "generation_config = {\"candidate_count\": 1, \"temperature\": 0.5}\n",
        "safety_settings = {\n",
        "    'HATE': 'BLOCK_NONE',\n",
        "    'HARASSMENT': 'BLOCK_NONE',\n",
        "    'SEXUAL': 'BLOCK_NONE',\n",
        "    'DANGEROUS': 'BLOCK_NONE'\n",
        "}\n",
        "\n",
        "model = genai.GenerativeModel(model_name='gemini-1.0-pro',\n",
        "                              generation_config=generation_config,\n",
        "                              safety_settings=safety_settings,)\n"
      ],
      "metadata": {
        "id": "5pY8BIG1veqI"
      },
      "execution_count": 22,
      "outputs": []
    },
    {
      "cell_type": "code",
      "source": [
        "# Função para criar um repente com base nas palavras dadas\n",
        "def create_repente(words):\n",
        "    response = model.generate_content(f\"Crie um repente com as palavras: {words}\")\n",
        "    return response.text"
      ],
      "metadata": {
        "id": "--n39iUkzkdg"
      },
      "execution_count": 23,
      "outputs": []
    },
    {
      "cell_type": "code",
      "source": [
        "# Função principal do programa\n",
        "def main():\n",
        "    while True:\n",
        "        mode = input(\"Escolha o modo (normal/desafio) ou 'sair' para terminar: \").lower()\n",
        "        if mode == 'sair':\n",
        "            break\n",
        "        elif mode not in ['normal', 'desafio']:\n",
        "            print(\"Modo inválido. Digite 'normal', 'desafio' ou 'sair'.\")\n",
        "            continue\n",
        "\n",
        "        words = input(\"Digite algumas palavras para o repente ou 'sair' para terminar: \")\n",
        "        if words == 'sair':\n",
        "            break\n",
        "\n",
        "        if mode == 'normal':\n",
        "            repente = create_repente(words)\n",
        "            display(Markdown(f'**Repente Gerado:**\\n{textwrap.fill(repente, width=60)}'))\n",
        "        elif mode == 'desafio':\n",
        "            ai_repente = create_repente(words)\n",
        "            display(Markdown(f'**Repente da IA:**\\n{textwrap.fill(ai_repente, width=60)}'))\n",
        "            user_repente = input(\"Digite seu repente em resposta: \")\n",
        "            feedback = model.generate_content(f\"Avalie este repente: {user_repente}\")\n",
        "            display(Markdown(f'**Seu Repente:**\\n{textwrap.fill(user_repente, width=60)}'))\n",
        "            display(Markdown(f'**Feedback da IA:**\\n{textwrap.fill(feedback.text, width=60)}'))\n",
        "\n",
        "if __name__ == \"__main__\":\n",
        "    main()"
      ],
      "metadata": {
        "colab": {
          "base_uri": "https://localhost:8080/",
          "height": 374
        },
        "id": "ouHuYkNk2xwj",
        "outputId": "322b263e-47bb-410d-b1f5-050ef65d7b52"
      },
      "execution_count": 28,
      "outputs": [
        {
          "name": "stdout",
          "output_type": "stream",
          "text": [
            "Escolha o modo (normal/desafio) ou 'sair' para terminar: normal\n",
            "Digite algumas palavras para o repente ou 'sair' para terminar: ar,terra, agua e ar\n"
          ]
        },
        {
          "output_type": "display_data",
          "data": {
            "text/plain": [
              "<IPython.core.display.Markdown object>"
            ],
            "text/markdown": "**Repente Gerado:**\nNo ar, a ave voa livre, Na terra, a flor desabrocha. Na\nágua, o peixe nada, No fogo, a chama se aprocha.  Quatro\nelementos, essenciais, Para a vida florescer. Ar, terra,\nágua e fogo, Juntos, fazem o mundo viver."
          },
          "metadata": {}
        },
        {
          "name": "stdout",
          "output_type": "stream",
          "text": [
            "Escolha o modo (normal/desafio) ou 'sair' para terminar: desafio\n",
            "Digite algumas palavras para o repente ou 'sair' para terminar: desafio\n"
          ]
        },
        {
          "output_type": "display_data",
          "data": {
            "text/plain": [
              "<IPython.core.display.Markdown object>"
            ],
            "text/markdown": "**Repente da IA:**\nNo desafio da vida, eu vou enfrentar Com coragem e fé, não\nvou recuar Pois os obstáculos são degraus a subir E no topo,\na vitória vou conseguir  O caminho é árduo, mas eu não\ndesisto Com determinação, sigo persistindo Cada passo é um\naprendizado Que me fortalece, me torna mais ousado  O medo\ntenta me paralisar Mas eu o enfrento, sem hesitar Pois sei\nque o desafio é uma prova Que me faz crescer e evoluir na\nvida"
          },
          "metadata": {}
        },
        {
          "name": "stdout",
          "output_type": "stream",
          "text": [
            "Digite seu repente em resposta: Hoje é um bom dia para começar novos desafios. Onde você quer chegar? Ir alto. Sonhe alto, queira o melhor do melhor, queira coisas boas para a vida. pensamentos assim trazem para nós aquilo que desejamos.\n"
          ]
        },
        {
          "output_type": "display_data",
          "data": {
            "text/plain": [
              "<IPython.core.display.Markdown object>"
            ],
            "text/markdown": "**Seu Repente:**\nHoje é um bom dia para começar novos desafios. Onde você\nquer chegar? Ir alto. Sonhe alto, queira o melhor do melhor,\nqueira coisas boas para a vida. pensamentos assim trazem\npara nós aquilo que desejamos."
          },
          "metadata": {}
        },
        {
          "output_type": "display_data",
          "data": {
            "text/plain": [
              "<IPython.core.display.Markdown object>"
            ],
            "text/markdown": "**Feedback da IA:**\n**Avaliação:**  **Pontos Positivos:**  * Mensagem\nmotivacional e inspiradora * Linguagem clara e concisa *\nRitmo e rima cativantes  **Pontos a Melhorar:**  * Falta de\noriginalidade na mensagem * Uso de clichês (\"ir alto\",\n\"sonhe alto\") * Estrutura repetitiva  **Avaliação Geral:**\nO repente é bem escrito e transmite uma mensagem positiva,\nmas carece de originalidade e profundidade. Ele pode ser\neficaz para motivar o ouvinte a curto prazo, mas não oferece\ninsights ou estratégias valiosas para superar desafios.\n**Nota:** 3/5"
          },
          "metadata": {}
        },
        {
          "name": "stdout",
          "output_type": "stream",
          "text": [
            "Escolha o modo (normal/desafio) ou 'sair' para terminar: sair\n"
          ]
        }
      ]
    }
  ]
}